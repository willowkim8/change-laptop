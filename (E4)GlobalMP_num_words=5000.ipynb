{
 "cells": [
  {
   "cell_type": "code",
   "execution_count": 1,
   "id": "skilled-drink",
   "metadata": {},
   "outputs": [
    {
     "name": "stdout",
     "output_type": "stream",
     "text": [
      "146182\n",
      "49157\n"
     ]
    }
   ],
   "source": [
    "import pandas as pd\n",
    "import urllib.request\n",
    "%matplotlib inline\n",
    "import matplotlib.pyplot as plt\n",
    "import re\n",
    "from konlpy.tag import Okt\n",
    "from tensorflow import keras\n",
    "from tensorflow.keras.preprocessing.text import Tokenizer\n",
    "import numpy as np\n",
    "from tensorflow.keras.preprocessing.sequence import pad_sequences\n",
    "from collections import Counter\n",
    "from tensorflow.python.keras.callbacks import EarlyStopping\n",
    "\n",
    "train_data = pd.read_table('~/aiffel/sentiment_classification/ratings_train.txt')\n",
    "test_data = pd.read_table('~/aiffel/sentiment_classification/ratings_test.txt')\n",
    "\n",
    "from konlpy.tag import Mecab\n",
    "tokenizer = Mecab()\n",
    "stopwords = ['의','가','이','은','들','는','좀','잘','걍','과','도','를','으로','자','에','와','한','하다']\n",
    "\n",
    "def load_data(train_data, test_data, num_words=10000):\n",
    "    train_data.drop_duplicates(subset=['document'], inplace=True) # 중복 리뷰 삭제\n",
    "    train_data = train_data.dropna(how = 'any') # Null 샘플 제거\n",
    "    test_data.drop_duplicates(subset=['document'], inplace=True) \n",
    "    test_data = test_data.dropna(how = 'any') \n",
    "\n",
    "    x_train = []\n",
    "    for sentence in train_data['document']:\n",
    "        temp_x = tokenizer.morphs(sentence) # 토큰화\n",
    "        temp_x = [word for word in temp_x if not word in stopwords] # 불용어 제거\n",
    "        x_train.append(temp_x)\n",
    "\n",
    "    x_test = []\n",
    "    for sentence in test_data['document']:\n",
    "        temp_x = tokenizer.morphs(sentence) # 토큰화\n",
    "        temp_x = [word for word in temp_x if not word in stopwords] # 불용어 제거\n",
    "        x_test.append(temp_x)\n",
    "\n",
    "    # 정수로 인코딩\n",
    "    words = np.concatenate(x_train).tolist()\n",
    "    counter = Counter(words)\n",
    "    counter = counter.most_common(5000-4)    # 5000으로 줄임\n",
    "    vocab = ['<PAD>', '<BOS>', '<UNK>', '<UNUSED>'] + [key for key, _ in counter]\n",
    "    word_to_index = {word:index for index, word in enumerate(vocab)} # enumerate 열거하다\n",
    "\n",
    "    def wordlist_to_indexlist(wordlist):\n",
    "        return [word_to_index[word] if word in word_to_index else word_to_index['<UNK>'] for word in wordlist]\n",
    "\n",
    "    x_train = list(map(wordlist_to_indexlist, x_train))\n",
    "    x_test = list(map(wordlist_to_indexlist, x_test))\n",
    "\n",
    "    return x_train, np.array(list(train_data['label'])), x_test, np.array(list(test_data['label'])), word_to_index\n",
    "\n",
    "x_train, y_train, x_test, y_test, word_to_index = load_data(train_data, test_data) # load_data\n",
    "\n",
    "print(len(x_train)) # 5000으로 num_words가 바껴도 모든 data 개수는 일정합니다.\n",
    "print(len(x_test))"
   ]
  },
  {
   "cell_type": "code",
   "execution_count": 2,
   "id": "informal-treasure",
   "metadata": {},
   "outputs": [],
   "source": [
    "index_to_word = {index:word for word, index in word_to_index.items()}"
   ]
  },
  {
   "cell_type": "code",
   "execution_count": 3,
   "id": "sized-apollo",
   "metadata": {},
   "outputs": [
    {
     "name": "stdout",
     "output_type": "stream",
     "text": [
      "문장길이 평균 :  15.96938143432699\n",
      "문장길이 최대 :  116\n",
      "문장길이 표준편차 :  12.843571939469296\n",
      "pad_sequences maxlen :  47\n",
      "전체 문장의 95.2175448835102%가 maxlen 설정값 이내에 포함됩니다. \n"
     ]
    }
   ],
   "source": [
    "total_data_text = list(x_train) + list(x_test)\n",
    "# 텍스트 데이터 문장길이의 리스트를 생성한 후\n",
    "num_tokens = [len(tokens) for tokens in total_data_text]\n",
    "num_tokens = np.array(num_tokens)\n",
    "# 문장길이의 평균값, 최대값, 표준편차를 계산해 본다. \n",
    "print('문장길이 평균 : ', np.mean(num_tokens))\n",
    "print('문장길이 최대 : ', np.max(num_tokens))\n",
    "print('문장길이 표준편차 : ', np.std(num_tokens))\n",
    "\n",
    "# 예를들어, 최대 길이를 (평균 + 2*표준편차)로 한다면,  \n",
    "max_tokens = np.mean(num_tokens) + round(2.5 * np.std(num_tokens))\n",
    "maxlen = int(max_tokens)\n",
    "print('pad_sequences maxlen : ', maxlen)\n",
    "print('전체 문장의 {}%가 maxlen 설정값 이내에 포함됩니다. '.format(np.sum(num_tokens < max_tokens)*100 / len(num_tokens)))"
   ]
  },
  {
   "cell_type": "code",
   "execution_count": 4,
   "id": "nearby-interpretation",
   "metadata": {},
   "outputs": [],
   "source": [
    "# 위의 maxlen 값에 맞춰서 패딩\n",
    "# post는 data 뒤에 패딩, pre는 data 앞에 패딩\n",
    "# keras.preprocessing.sequence.pad_sequences 을 활용한 패딩 추가\n",
    "x_train = keras.preprocessing.sequence.pad_sequences(x_train,\n",
    "                                                       value=word_to_index[\"<PAD>\"],\n",
    "                                                       padding='pre',\n",
    "                                                       maxlen=maxlen)\n",
    "\n",
    "x_test = keras.preprocessing.sequence.pad_sequences(x_test,\n",
    "                                                      value=word_to_index[\"<PAD>\"],\n",
    "                                                      padding='pre',\n",
    "                                                      maxlen=maxlen)"
   ]
  },
  {
   "cell_type": "code",
   "execution_count": 5,
   "id": "pointed-tennis",
   "metadata": {},
   "outputs": [],
   "source": [
    "from tensorflow.keras.layers import Embedding, Dense, LSTM\n",
    "from tensorflow.keras.models import Sequential\n",
    "from tensorflow.keras.models import load_model\n",
    "from tensorflow.keras.callbacks import EarlyStopping, ModelCheckpoint\n",
    "\n",
    "vocab_size = 5000    # 어휘 사전의 크기입니다(10,000개의 단어)\n",
    "word_vector_dim = 8  # 워드 벡터의 차원수 (변경가능한 하이퍼파라미터)\n",
    "\n",
    "#GlobalMaxPooling1D() 레이어 하나만 사용하는 방법\n",
    "#전체 문장 중에서 단 하나의 가장 중요한 단어만 피처로 추출하여 그것으로 문장의 긍정/부정을 평가하는 방식\n",
    "model_GlobMP = keras.Sequential()\n",
    "model_GlobMP.add(keras.layers.Embedding(vocab_size, word_vector_dim, input_shape=(None,)))\n",
    "model_GlobMP.add(keras.layers.GlobalMaxPooling1D())\n",
    "#model_GlobMP.add(keras.layers.Dropout(0.3))\n",
    "model_GlobMP.add(keras.layers.Dense(8, activation='relu'))\n",
    "#model_GlobMP.add(keras.layers.Dropout(0.3))\n",
    "model_GlobMP.add(keras.layers.Dense(1, activation='sigmoid'))  # 최종 출력은 긍정/부정을 나타내는 1dim 입니다."
   ]
  },
  {
   "cell_type": "code",
   "execution_count": 6,
   "id": "underlying-accommodation",
   "metadata": {},
   "outputs": [
    {
     "name": "stdout",
     "output_type": "stream",
     "text": [
      "GlobMP---------------------------------------------------------------------------------------------------\n",
      "Epoch 1/10\n",
      "1170/1170 [==============================] - 6s 5ms/step - loss: 0.4997 - acc: 0.7792 - val_loss: 0.4058 - val_acc: 0.8146\n",
      "Epoch 2/10\n",
      "1170/1170 [==============================] - 6s 5ms/step - loss: 0.3863 - acc: 0.8281 - val_loss: 0.3860 - val_acc: 0.8292\n",
      "Epoch 3/10\n",
      "1170/1170 [==============================] - 6s 5ms/step - loss: 0.3693 - acc: 0.8382 - val_loss: 0.3801 - val_acc: 0.8326\n",
      "Epoch 4/10\n",
      "1170/1170 [==============================] - 7s 6ms/step - loss: 0.3618 - acc: 0.8426 - val_loss: 0.3787 - val_acc: 0.8353\n",
      "Epoch 5/10\n",
      "1170/1170 [==============================] - 6s 5ms/step - loss: 0.3580 - acc: 0.8449 - val_loss: 0.3773 - val_acc: 0.8356\n",
      "Epoch 6/10\n",
      "1170/1170 [==============================] - 6s 5ms/step - loss: 0.3552 - acc: 0.8463 - val_loss: 0.3773 - val_acc: 0.8348\n",
      "Epoch 7/10\n",
      "1170/1170 [==============================] - 6s 5ms/step - loss: 0.3535 - acc: 0.8473 - val_loss: 0.3770 - val_acc: 0.8349\n",
      "Epoch 8/10\n",
      "1170/1170 [==============================] - 6s 5ms/step - loss: 0.3522 - acc: 0.8478 - val_loss: 0.3771 - val_acc: 0.8355\n",
      "Epoch 9/10\n",
      "1170/1170 [==============================] - 6s 5ms/step - loss: 0.3511 - acc: 0.8488 - val_loss: 0.3773 - val_acc: 0.8360\n",
      "Epoch 10/10\n",
      "1170/1170 [==============================] - 6s 5ms/step - loss: 0.3500 - acc: 0.8492 - val_loss: 0.3766 - val_acc: 0.8366\n"
     ]
    }
   ],
   "source": [
    "print('GlobMP---------------------------------------------------------------------------------------------------')\n",
    "model_GlobMP.compile(optimizer='rmsprop', loss='binary_crossentropy', metrics=['acc'])\n",
    "\n",
    "callbacks_list = [\n",
    "    # 검증 정확도(val_loss)가 10 epoch보다 더 긴시간동안 향상되지 않으면 훈련을 중지\n",
    "    EarlyStopping(monitor='val_loss', # 기본값은 monitor='val_loss'\n",
    "                  patience=5),\n",
    "    \n",
    "    # 훈련 중 검증 손실(val_loss)이 가장 좋을 때마다 계속해서 저장\n",
    "    # (최종적으로 가장 좋은 모델만 저장됨)\n",
    "    ModelCheckpoint(filepath='my_model_GlobMP.h5',\n",
    "                    monitor='val_loss',\n",
    "                    save_best_only=True)]\n",
    "\n",
    "history_model_GlobMP = model_GlobMP.fit(x_train, \n",
    "                                        y_train, \n",
    "                                        epochs=10, \n",
    "                                        callbacks=callbacks_list, \n",
    "                                        batch_size=100, \n",
    "                                        validation_split=0.2)"
   ]
  },
  {
   "cell_type": "code",
   "execution_count": 7,
   "id": "coral-namibia",
   "metadata": {},
   "outputs": [
    {
     "name": "stdout",
     "output_type": "stream",
     "text": [
      "1537/1537 [==============================] - 3s 2ms/step - loss: 0.3800 - acc: 0.8325\n",
      "0.8324552178382874\n"
     ]
    }
   ],
   "source": [
    "loaded_model_GlobMP = load_model('my_model_GlobMP.h5')\n",
    "results_GlobMP = loaded_model_GlobMP.evaluate(x_test, y_test)[1]\n",
    "print(results_GlobMP)"
   ]
  },
  {
   "cell_type": "code",
   "execution_count": 8,
   "id": "mobile-dance",
   "metadata": {},
   "outputs": [],
   "source": [
    "# # test 는 \"evaluate\"\n",
    "# results_GlobMP = model_GlobMP.evaluate(x_test,  y_test, verbose=2, callbacks=callbacks_list)\n",
    "\n",
    "# print(results_GlobMP)"
   ]
  },
  {
   "cell_type": "code",
   "execution_count": 9,
   "id": "handmade-situation",
   "metadata": {},
   "outputs": [
    {
     "name": "stdout",
     "output_type": "stream",
     "text": [
      "dict_keys(['loss', 'acc', 'val_loss', 'val_acc'])\n"
     ]
    }
   ],
   "source": [
    "history_dict_GlobMP = history_model_GlobMP.history\n",
    "print(history_dict_GlobMP.keys()) # epoch에 따른 그래프를 그려볼 수 있는 항목들"
   ]
  },
  {
   "cell_type": "code",
   "execution_count": 10,
   "id": "falling-gathering",
   "metadata": {},
   "outputs": [
    {
     "data": {
      "image/png": "[encoded data removed]",
      "text/plain": [
       "<Figure size 432x288 with 1 Axes>"
      ]
     },
     "metadata": {
      "needs_background": "light"
     },
     "output_type": "display_data"
    },
    {
     "data": {
      "image/png": "[encoded data removed]",
      "text/plain": [
       "<Figure size 432x288 with 1 Axes>"
      ]
     },
     "metadata": {
      "needs_background": "light"
     },
     "output_type": "display_data"
    }
   ],
   "source": [
    "import matplotlib.pyplot as plt\n",
    "# GlobMP\n",
    "acc = history_dict_GlobMP['acc']\n",
    "val_acc = history_dict_GlobMP['val_acc']\n",
    "loss = history_dict_GlobMP['loss']\n",
    "val_loss = history_dict_GlobMP['val_loss']\n",
    "\n",
    "epochs = range(1, len(acc) + 1)\n",
    "\n",
    "#fig, ax = plt.subplots(1, 2, sharex=True) \n",
    "# fig란 figure로써 - 전체 subplot을 말한다. \n",
    "# ex) 서브플로안에 몇개의 그래프가 있던지 상관없이  그걸 담는 하나.전체 사이즈를 말한다.\n",
    "# ax는 axe로써 - 전체 중 낱낱개를 말한다 \n",
    "# ex) 서브플롯 안에 2개(a1,a2)의 그래프가 있다면 a1, a2 를 일컬음\n",
    "\n",
    "\n",
    "# \"bo\"는 \"파란색 점\"입니다\n",
    "plt.plot(epochs, loss, 'bo', label='Training loss')\n",
    "# b는 \"파란 실선\"입니다\n",
    "plt.plot(epochs, val_loss, 'b', label='Validation loss')\n",
    "plt.title('GlobMP Training and validation loss')\n",
    "plt.xlabel('Epochs')\n",
    "plt.ylabel('Loss')\n",
    "plt.legend()\n",
    "\n",
    "plt.show()\n",
    "\n",
    "plt.clf()   # 그림을 초기화합니다\n",
    "\n",
    "plt.plot(epochs, acc, 'bo', label='Training acc')\n",
    "plt.plot(epochs, val_acc, 'b', label='Validation acc')\n",
    "plt.title('GlobMP Training and validation accuracy')\n",
    "plt.xlabel('Epochs')\n",
    "plt.ylabel('Accuracy')\n",
    "plt.legend()\n",
    "\n",
    "plt.show()"
   ]
  },
  {
   "cell_type": "code",
   "execution_count": 11,
   "id": "packed-reflection",
   "metadata": {},
   "outputs": [
    {
     "name": "stdout",
     "output_type": "stream",
     "text": [
      "(5000, 8)\n"
     ]
    }
   ],
   "source": [
    "# GLobMP\n",
    "embedding_layer = model_GlobMP.layers[0]\n",
    "weights = embedding_layer.get_weights()[0]\n",
    "print(weights.shape)    # shape: (vocab_size, embedding_dim)"
   ]
  },
  {
   "cell_type": "code",
   "execution_count": 12,
   "id": "oriented-reservation",
   "metadata": {},
   "outputs": [],
   "source": [
    "import os\n",
    "\n",
    "# 학습한 GlobMP Embedding 파라미터를 파일에 써서 저장합니다. \n",
    "word2vec_file_path_GlobMP = os.getenv('HOME')+'/aiffel/sentiment_classification/word2vec_GlobMP.txt'\n",
    "f = open(word2vec_file_path_GlobMP, 'w')\n",
    "f.write('{} {}\\n'.format(vocab_size-4, word_vector_dim))  # 몇개의 벡터를 얼마 사이즈로 기재할지 타이틀을 씁니다.\n",
    "\n",
    "# 단어 개수(에서 특수문자 4개는 제외하고)만큼의 워드 벡터를 파일에 기록합니다. \n",
    "vectors = model_GlobMP.get_weights()[0]\n",
    "for i in range(4,vocab_size):\n",
    "    f.write('{} {}\\n'.format(index_to_word[i], ' '.join(map(str, list(vectors[i, :])))))\n",
    "f.close()"
   ]
  },
  {
   "cell_type": "code",
   "execution_count": 13,
   "id": "dangerous-entity",
   "metadata": {},
   "outputs": [
    {
     "data": {
      "text/plain": [
       "array([-1.28634319e-01, -1.75103754e-01,  7.70177469e-02, -1.46395760e-04,\n",
       "        1.12891674e-01,  1.56268924e-01, -1.18394457e-01, -1.43959180e-01],\n",
       "      dtype=float32)"
      ]
     },
     "execution_count": 13,
     "metadata": {},
     "output_type": "execute_result"
    }
   ],
   "source": [
    "from gensim.models.keyedvectors import Word2VecKeyedVectors\n",
    "\n",
    "word_vectors_GlobMP = Word2VecKeyedVectors.load_word2vec_format(word2vec_file_path_GlobMP, binary=False)\n",
    "vector_GlobMP = word_vectors_GlobMP['팝콘']\n",
    "vector_GlobMP"
   ]
  },
  {
   "cell_type": "code",
   "execution_count": 14,
   "id": "dedicated-mexican",
   "metadata": {},
   "outputs": [
    {
     "data": {
      "text/plain": [
       "[('스킵', 0.997357964515686),\n",
       " ('훼손', 0.9878196716308594),\n",
       " ('발톱', 0.9836360216140747),\n",
       " ('직', 0.9832727909088135),\n",
       " ('듣보잡', 0.9831662178039551),\n",
       " ('요약', 0.981656551361084),\n",
       " ('불편', 0.9755003452301025),\n",
       " ('간첩', 0.9752987623214722),\n",
       " ('망함', 0.9743779897689819),\n",
       " ('대놓고', 0.9736974239349365)]"
      ]
     },
     "execution_count": 14,
     "metadata": {},
     "output_type": "execute_result"
    }
   ],
   "source": [
    "word_vectors_GlobMP.similar_by_word('팝콘')"
   ]
  },
  {
   "cell_type": "code",
   "execution_count": 15,
   "id": "arctic-integrity",
   "metadata": {},
   "outputs": [
    {
     "name": "stderr",
     "output_type": "stream",
     "text": [
      "/home/aiffel-dj35/anaconda3/envs/aiffel/lib/python3.7/site-packages/ipykernel_launcher.py:7: DeprecationWarning: Call to deprecated `__getitem__` (Method will be removed in 4.0.0, use self.wv.__getitem__() instead).\n",
      "  import sys\n"
     ]
    },
    {
     "data": {
      "text/plain": [
       "200"
      ]
     },
     "execution_count": 15,
     "metadata": {},
     "output_type": "execute_result"
    }
   ],
   "source": [
    "from gensim.models import KeyedVectors\n",
    "import os\n",
    "import gensim\n",
    "\n",
    "ko_model = gensim.models.Word2Vec.load('./sentiment_classification/ko.bin')\n",
    "word2vec = ko_model\n",
    "vector = ko_model['강아지']\n",
    "len(vector)"
   ]
  },
  {
   "cell_type": "code",
   "execution_count": 16,
   "id": "human-monitoring",
   "metadata": {},
   "outputs": [
    {
     "name": "stderr",
     "output_type": "stream",
     "text": [
      "/home/aiffel-dj35/anaconda3/envs/aiffel/lib/python3.7/site-packages/ipykernel_launcher.py:8: DeprecationWarning: Call to deprecated `__contains__` (Method will be removed in 4.0.0, use self.wv.__contains__() instead).\n",
      "  \n",
      "/home/aiffel-dj35/anaconda3/envs/aiffel/lib/python3.7/site-packages/ipykernel_launcher.py:9: DeprecationWarning: Call to deprecated `__getitem__` (Method will be removed in 4.0.0, use self.wv.__getitem__() instead).\n",
      "  if __name__ == '__main__':\n"
     ]
    }
   ],
   "source": [
    "vocab_size = 5000    # 어휘 사전의 크기입니다(10,000개의 단어)\n",
    "word_vector_dim = 200  # 워드 벡터의 차원수 (변경가능한 하이퍼파라미터)\n",
    "\n",
    "embedding_matrix = np.random.rand(vocab_size, word_vector_dim)\n",
    "\n",
    "# embedding_matrix에 Word2Vec 워드벡터를 단어 하나씩마다 차례차례 카피한다.\n",
    "for i in range(4,vocab_size):\n",
    "    if index_to_word[i] in word2vec:\n",
    "        embedding_matrix[i] = word2vec[index_to_word[i]]"
   ]
  },
  {
   "cell_type": "code",
   "execution_count": 17,
   "id": "moderate-pledge",
   "metadata": {},
   "outputs": [
    {
     "name": "stdout",
     "output_type": "stream",
     "text": [
      "Model: \"sequential_1\"\n",
      "_________________________________________________________________\n",
      "Layer (type)                 Output Shape              Param #   \n",
      "=================================================================\n",
      "embedding_1 (Embedding)      (None, 47, 200)           1000000   \n",
      "_________________________________________________________________\n",
      "global_max_pooling1d_1 (Glob (None, 200)               0         \n",
      "_________________________________________________________________\n",
      "dense_2 (Dense)              (None, 8)                 1608      \n",
      "_________________________________________________________________\n",
      "dense_3 (Dense)              (None, 1)                 9         \n",
      "=================================================================\n",
      "Total params: 1,001,617\n",
      "Trainable params: 1,001,617\n",
      "Non-trainable params: 0\n",
      "_________________________________________________________________\n"
     ]
    }
   ],
   "source": [
    "from tensorflow.keras.initializers import Constant\n",
    "# model 설계\n",
    "\n",
    "#LSTM\n",
    "# model_LSTM2 = Sequential()\n",
    "# model_LSTM2.add(keras.layers.Embedding(vocab_size, \n",
    "#                                  word_vector_dim, \n",
    "#                                  embeddings_initializer=Constant(embedding_matrix),  # 카피한 임베딩을 여기서 활용\n",
    "#                                  input_length=maxlen, \n",
    "#                                  trainable=True))   # trainable을 True로 주면 Fine-tuning\n",
    "# model_LSTM2.add(LSTM(128))\n",
    "# model_LSTM2.add(Dense(1, activation='sigmoid'))\n",
    "\n",
    "\n",
    "#GlobalMaxPooling1D() 레이어 하나만 사용하는 방법\n",
    "#전체 문장 중에서 단 하나의 가장 중요한 단어만 피처로 추출하여 그것으로 문장의 긍정/부정을 평가하는 방식\n",
    "model_GlobMP2 = keras.Sequential()\n",
    "model_GlobMP2.add(keras.layers.Embedding(vocab_size, \n",
    "                                 word_vector_dim, \n",
    "                                 embeddings_initializer=Constant(embedding_matrix),  # 카피한 임베딩을 여기서 활용\n",
    "                                 input_length=maxlen, \n",
    "                                 trainable=True))\n",
    "model_GlobMP2.add(keras.layers.GlobalMaxPooling1D())\n",
    "#model_GlobMP2.add(keras.layers.Dropout(0.3))\n",
    "model_GlobMP2.add(keras.layers.Dense(8, activation='relu'))\n",
    "#model_GlobMP2.add(keras.layers.Dropout(0.3))\n",
    "model_GlobMP2.add(keras.layers.Dense(1, activation='sigmoid'))  # 최종 출력은 긍정/부정을 나타내는 1dim 입니다.\n",
    "\n",
    "\n",
    "# model_LSTM2.summary()\n",
    "model_GlobMP2.summary()"
   ]
  },
  {
   "cell_type": "code",
   "execution_count": 18,
   "id": "limiting-electron",
   "metadata": {},
   "outputs": [
    {
     "name": "stdout",
     "output_type": "stream",
     "text": [
      "GlobMP---------------------------------------------------------------------------------------------------\n",
      "Epoch 1/10\n",
      "1170/1170 [==============================] - 24s 20ms/step - loss: 0.5981 - acc: 0.6739 - val_loss: 0.5274 - val_acc: 0.7338\n",
      "Epoch 2/10\n",
      "1170/1170 [==============================] - 21s 18ms/step - loss: 0.4930 - acc: 0.7595 - val_loss: 0.4795 - val_acc: 0.7665\n",
      "Epoch 3/10\n",
      "1170/1170 [==============================] - 21s 18ms/step - loss: 0.4500 - acc: 0.7879 - val_loss: 0.4524 - val_acc: 0.7882\n",
      "Epoch 4/10\n",
      "1170/1170 [==============================] - 21s 18ms/step - loss: 0.4238 - acc: 0.8041 - val_loss: 0.4393 - val_acc: 0.7961\n",
      "Epoch 5/10\n",
      "1170/1170 [==============================] - 21s 18ms/step - loss: 0.4063 - acc: 0.8144 - val_loss: 0.4357 - val_acc: 0.7986\n",
      "Epoch 6/10\n",
      "1170/1170 [==============================] - 22s 19ms/step - loss: 0.3932 - acc: 0.8227 - val_loss: 0.4221 - val_acc: 0.8061\n",
      "Epoch 7/10\n",
      "1170/1170 [==============================] - 21s 18ms/step - loss: 0.3832 - acc: 0.8285 - val_loss: 0.4043 - val_acc: 0.8153\n",
      "Epoch 8/10\n",
      "1170/1170 [==============================] - 21s 18ms/step - loss: 0.3750 - acc: 0.8321 - val_loss: 0.4036 - val_acc: 0.8159\n",
      "Epoch 9/10\n",
      "1170/1170 [==============================] - 21s 18ms/step - loss: 0.3680 - acc: 0.8357 - val_loss: 0.3917 - val_acc: 0.8245\n",
      "Epoch 10/10\n",
      "1170/1170 [==============================] - 21s 18ms/step - loss: 0.3620 - acc: 0.8399 - val_loss: 0.3886 - val_acc: 0.8255\n"
     ]
    }
   ],
   "source": [
    "print('GlobMP---------------------------------------------------------------------------------------------------')\n",
    "model_GlobMP2.compile(optimizer='rmsprop', loss='binary_crossentropy', metrics=['acc'])\n",
    "\n",
    "callbacks_list = [\n",
    "    # 검증 정확도(val_loss)가 10 epoch보다 더 긴시간동안 향상되지 않으면 훈련을 중지\n",
    "    EarlyStopping(monitor='val_loss', # 기본값은 monitor='val_loss'\n",
    "                  patience=5),\n",
    "    \n",
    "    # 훈련 중 검증 손실(val_loss)이 가장 좋을 때마다 계속해서 저장\n",
    "    # (최종적으로 가장 좋은 모델만 저장됨)\n",
    "    ModelCheckpoint(filepath='my_model_GlobMP2.h5',\n",
    "                    monitor='val_loss',\n",
    "                    save_best_only=True)]\n",
    "\n",
    "history_model_GlobMP2 = model_GlobMP2.fit(x_train, \n",
    "                                        y_train, \n",
    "                                        epochs=10, \n",
    "                                        callbacks=callbacks_list, \n",
    "                                        batch_size=100, \n",
    "                                        validation_split=0.2)"
   ]
  },
  {
   "cell_type": "code",
   "execution_count": 19,
   "id": "robust-soccer",
   "metadata": {},
   "outputs": [
    {
     "name": "stdout",
     "output_type": "stream",
     "text": [
      "1537/1537 [==============================] - 7s 4ms/step - loss: 0.3893 - acc: 0.8248\n",
      "0.8248469233512878\n"
     ]
    }
   ],
   "source": [
    "loaded_model_GlobMP2 = load_model('my_model_GlobMP2.h5')\n",
    "results_GlobMP2 = loaded_model_GlobMP2.evaluate(x_test, y_test)[1]\n",
    "print(results_GlobMP2)"
   ]
  },
  {
   "cell_type": "code",
   "execution_count": 20,
   "id": "perceived-millennium",
   "metadata": {},
   "outputs": [],
   "source": [
    "# # test 는 \"evaluate\"\n",
    "# results_GlobMP2 = model_GlobMP2.evaluate(x_test,  y_test, verbose=2, callbacks=callbacks_list)\n",
    "\n",
    "# print(results_GlobMP2)"
   ]
  },
  {
   "cell_type": "code",
   "execution_count": 21,
   "id": "immediate-sullivan",
   "metadata": {},
   "outputs": [
    {
     "name": "stdout",
     "output_type": "stream",
     "text": [
      "Before : 0.8324552178382874\n",
      "--------------------------------------------\n",
      "After : 0.8248469233512878\n"
     ]
    }
   ],
   "source": [
    "print('Before :',results_GlobMP)\n",
    "print('--------------------------------------------')\n",
    "print('After :',results_GlobMP2)"
   ]
  },
  {
   "cell_type": "code",
   "execution_count": null,
   "id": "welcome-ghana",
   "metadata": {},
   "outputs": [],
   "source": []
  }
 ],
 "metadata": {
  "kernelspec": {
   "display_name": "aiffel",
   "language": "python",
   "name": "aiffel"
  },
  "language_info": {
   "codemirror_mode": {
    "name": "ipython",
    "version": 3
   },
   "file_extension": ".py",
   "mimetype": "text/x-python",
   "name": "python",
   "nbconvert_exporter": "python",
   "pygments_lexer": "ipython3",
   "version": "3.7.9"
  }
 },
 "nbformat": 4,
 "nbformat_minor": 5
}
