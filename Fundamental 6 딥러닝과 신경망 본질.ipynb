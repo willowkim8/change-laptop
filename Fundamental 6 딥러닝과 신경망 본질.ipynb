{
 "cells": [
  {
   "cell_type": "markdown",
   "metadata": {},
   "source": [
    "학습 목표\n",
    "\n",
    "    딥러닝과 머신러닝의 차이를 설명할 수 있다.\n",
    "    딥러닝은 특히 데이터를 '표현'하는 것을 목표로 하며, '표현 학습'이라고 이야기 할 수 있는 본질을 이해한다.\n",
    "    연결주의를 계승하여 채택한 신경망 모델의 본질을 함수 차원에서 이해한다.\n",
    "    선형성이 무엇인지 설명할 수 있다.\n",
    "\n",
    "\n",
    "학습 내용\n",
    "\n",
    "    Deep Learning == Representation Learning ?\n",
    "    조금 더 파고들어보자, 딥러닝을 관통하는 철학 속으로\n",
    "    이번에는 '신경망', 그 본질에 대하여\n",
    "    현시대 AI: 어디까지 왔나, 그리고 어디를 향해 가는가\n",
    "\n",
    "안녕하세요! 오늘은 지금까지 했던 이야기들과 조금은 다르면서도, 많은 생각을 해볼 수 있는 이야기를 풀어나가보려고 합니다.\n",
    "\n",
    "어쩌면 오늘 나누는 이야기들은 오늘이 지나고 나면 다시 깊게 고민할 필요가 없는 이야기일 수도 있습니다. 하지만 한 번쯤 생각해 보면 좋을, 새로운 관점을 제시할 수 있는 중요한 이야기가 될 수도 있죠. 깊게 음미해 보시고, 신경망을 더욱 풍부한 관점에서 바라볼 수 있는 계기가 되었으면 좋겠습니다.\n",
    "\n",
    "오늘 하려는 이야기는 딥러닝과 신경망에 대한 이야기입니다.\n",
    "하지만 아마 지금까지도 많이 봐왔고, 또 앞으로도 계속해서 배울 경사하강법의 계산법이라던가 손실함수의 수식과 같은 이야기는 제외할 것이니 걱정마세요.\n",
    "\n",
    "딥러닝이라는 기술과 그 본질에 관심이 있는 사람이라면 분명 흥미로워 할 내용이 될 것임을 장담합니다!"
   ]
  },
  {
   "cell_type": "markdown",
   "metadata": {},
   "source": [
    "슈아 벤지오는 딥러닝을 다음과 같이 정의합니다.\n",
    "\n",
    "    Deep learning is inspired by neural networks of the brain to build learning machines which discover rich and useful internal representations, computed as a composition of learned features and functions.\n",
    "\n",
    "의역하자면 다음과 같습니다.\n",
    "\n",
    "    뇌의 신경 구조로부터 영감을 받아 신경망 형태로 설계된 딥러닝의 목표는, \"합성된 함수를 학습시켜서 풍부하면서도 유용한 '내재적 표현'을 찾아내는 machine을 구축하는 것\"이다.\n",
    "\n",
    "여기서 internal representation, 즉 '내재적 표현'이라는 단어를 사용합니다. 표현(Representation)은 딥러닝에서 굉장히 중요하게 여겨지는 개념입니다. 벤지오가 언급했듯 데이터의 '좋은 표현'을 찾아낼 수 있는 machine을 만드는 것이 딥러닝의 궁극적인 목표이기도 하죠."
   ]
  },
  {
   "cell_type": "markdown",
   "metadata": {},
   "source": [
    "10-7  \n",
    "신경망은, 다른 이름으로 말하자면 함수라고 할 수 있습니다. 매우 당연하고 간단한 이야기라고 생각할 수 있습니다. 하지만 신경망을 뇌와 비슷한 형태를 모사해 아주 복잡한 형태를 가진, 미지의 무언가라고 생각하기보다는 입력을 받은 후 내부에서 일련의 연산 과정을 거쳐 출력을 내는 거대한 함수로 보는 것도 앞으로 많은 딥러닝 기법을 이해할 때 도움이 될 수 있습니다."
   ]
  },
  {
   "cell_type": "code",
   "execution_count": 1,
   "metadata": {},
   "outputs": [],
   "source": [
    "import numpy as np\n",
    "\n",
    "def linear_transformation(X, A):\n",
    "    transformed_vector = np.matmul(X, A)\n",
    "    return transformed_vector"
   ]
  },
  {
   "cell_type": "markdown",
   "metadata": {},
   "source": [
    "[−1,2]의 벡터가 [1, −2]  변환을 통해 [5,2] 의 벡터로 옮겨지는 결과를 나타내면 됩니다.\n",
    "                [3, 0]"
   ]
  },
  {
   "cell_type": "code",
   "execution_count": null,
   "metadata": {},
   "outputs": [],
   "source": [
    "#벡터의 변환(Transformation)\n",
    "X = np.array([-1, 2])\n",
    "\n",
    "A = np.array([[1, -2], [3, 0]])\n",
    "\n",
    "linear_transformation(X, A)"
   ]
  }
 ],
 "metadata": {
  "kernelspec": {
   "display_name": "aiffel",
   "language": "python",
   "name": "aiffel"
  },
  "language_info": {
   "codemirror_mode": {
    "name": "ipython",
    "version": 3
   },
   "file_extension": ".py",
   "mimetype": "text/x-python",
   "name": "python",
   "nbconvert_exporter": "python",
   "pygments_lexer": "ipython3",
   "version": "3.7.9"
  }
 },
 "nbformat": 4,
 "nbformat_minor": 4
}
