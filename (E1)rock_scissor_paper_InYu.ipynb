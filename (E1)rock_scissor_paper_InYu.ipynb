{
 "cells": [
  {
   "cell_type": "markdown",
   "metadata": {},
   "source": [
    "### (E1)rock_scissor_paper"
   ]
  },
  {
   "cell_type": "markdown",
   "metadata": {},
   "source": [
    "### 1. 데이터 준비  Preparing your data\n",
    "\n",
    "직접 가위, 바위, 보를 100장씩 찍은 사진을 준비합시다.   \n",
    "Let's take photos of each rock, scissor, paper yourself.\n",
    "\n",
    "저 또한 어느 세월에 찍고 있나 했지만, 역시 구글은 다 준비를 해놨습니다.  \n",
    "I also had worried before taking the pictures but Google prepared everything.  \n",
    "https://teachablemachine.withgoogle.com/\n",
    "에 들어가서 여러 각도, 여러 크기로 연속으로 사진을 찍기 바랍니다.  \n",
    "After following the URL, please take continuous pictures of different angles and sizes.  \n",
    "\n",
    "이미지를 저장하고 속성에 들어가서 크기를 확인하면 224X224 픽셀인 것을 알 수 있습니다.  \n",
    "If you save the images and enter the property to see its size, you can see that it is 224X224 pixels.  \n",
    "이 이미지를 28X28 픽셀로 resize해서 딥러닝이 가볍게 돌아갈 수 있도록 해줍시다.  \n",
    "For doing deep learning lightly, you have to resize the images into 28X28 pixels.  \n",
    "이때 PIL 라이브러리를 이용합니다.  \n",
    "We're going to use the PIL library.\n",
    "+ Python에서 이미지 처리를 할 때 사용하는 라이브러리 중 하나입니다. \n",
    "+ That is one of the libraries that Python uses to process images.  \n",
    "\n",
    "또, os 와 glob 모듈을 사용할 것입니다. 모듈은 함수나 변수 또는 클래스를 모아 놓은 파일입니다.  \n",
    "We're going to use os and glob modules too. The module is the pile that gathered variables or classes.  \n",
    "우리는 파이썬이 이미 모아둔 파일을 이용하기만 하면 됩니다.  \n",
    "We can just take advantage of the pile that was gathered by Python.\n",
    "\n",
    "+ os 모듈은 Operating System의 약자로서 운영체제에서 제공되는 여러 기능을 파이썬에서 수행할 수 있게 해줍니다. 예를 들어, 파이썬을 이용해 파일을 복사하거나 디렉터리를 생성하고 특정 디렉터리 내의 파일 목록을 구하고자 할 때 os 모듈을 사용하면 됩니다.\n",
    "+ The os modules are abbreviated to Operating System, allowing Python to perform many of the functions provided by the operating system. For example, if you want to use Python to copy files, create directories, and get a list of files within a specific directory, you can use the os module.  \n",
    "\n",
    "+ glob 모듈은 윈도우의 dir 명령어나 리눅스의 ls 명령어와 유사한 기능을 제공합니다. glob() 함수는 경로에 대응되는 모든 파일 및 디렉터리의 리스트를 반환합니다.\n",
    "+ The glob module provides functionality similar to the dir command in Windows or ls command in Linux. The glob() function returns a list of all files and directories corresponding to the path."
   ]
  },
  {
   "cell_type": "code",
   "execution_count": 139,
   "metadata": {},
   "outputs": [
    {
     "name": "stdout",
     "output_type": "stream",
     "text": [
      "이미지 디렉토리 경로:  /home/aiffel/aiffel/rock_scissor_paper/scissor\n",
      "이미지 디렉토리 경로:  /home/aiffel/aiffel/rock_scissor_paper/rock\n",
      "이미지 디렉토리 경로:  /home/aiffel/aiffel/rock_scissor_paper/paper\n"
     ]
    }
   ],
   "source": [
    "import tensorflow as tf\n",
    "from tensorflow import keras\n",
    "import numpy as np\n",
    "from PIL import Image\n",
    "import os, glob #easy to use, thank you Python!\n",
    "\n",
    "# size 변경하기\n",
    "# Let's change size of the images\n",
    "\n",
    "# 사진이 저장된 폴더(디렉토리)에 있는 jpg 파일들을 28x28 사이즈로 바꾸어 저장합니다.\n",
    "# Read all jpg files under the directory where the scissor image is stored and save each piles in 28x28 size.\n",
    "\n",
    "# scissor\n",
    "image_dir_path = os.getenv(\"HOME\") + \"/aiffel/rock_scissor_paper/scissor\" # resize할 사진이 저장된 경로\n",
    "print(\"이미지 디렉토리 경로: \", image_dir_path)\n",
    "\n",
    "images=glob.glob(image_dir_path + \"/*.jpg\")\n",
    "target_size=(28,28)\n",
    "for img in images: # 반복문으로 모든 이미지에 대해서 아래와 같은 일을 수행\n",
    "    old_img=Image.open(img)\n",
    "    new_img=old_img.resize(target_size,Image.ANTIALIAS)\n",
    "    new_img.save(img,\"JPEG\")\n",
    "    \n",
    "# 바위 와 보에도 똑같이 적용합니다.\n",
    "# Do same at rock and paper.\n",
    "\n",
    "#rock\n",
    "image_dir_path = os.getenv(\"HOME\") + \"/aiffel/rock_scissor_paper/rock\"\n",
    "print(\"이미지 디렉토리 경로: \", image_dir_path)\n",
    "images=glob.glob(image_dir_path + \"/*.jpg\")  \n",
    "\n",
    "target_size=(28,28)\n",
    "for img in images:\n",
    "    old_img=Image.open(img)\n",
    "    new_img=old_img.resize(target_size,Image.ANTIALIAS)\n",
    "    new_img.save(img,\"JPEG\")\n",
    "    \n",
    "# paper\n",
    "image_dir_path = os.getenv(\"HOME\") + \"/aiffel/rock_scissor_paper/paper\"\n",
    "print(\"이미지 디렉토리 경로: \", image_dir_path)\n",
    "images=glob.glob(image_dir_path + \"/*.jpg\")  \n",
    "\n",
    "target_size=(28,28)\n",
    "for img in images:\n",
    "    old_img=Image.open(img)\n",
    "    new_img=old_img.resize(target_size,Image.ANTIALIAS)\n",
    "    new_img.save(img,\"JPEG\")"
   ]
  },
  {
   "cell_type": "markdown",
   "metadata": {},
   "source": [
    "### 2. 딥러닝 네트워크 설계\n",
    "다음 코드는 텐서플로우 케라스의 여러 방법 중 Sequential API를 이용한 것입니다.  \n",
    "Following codes is Sequential API of TensorFlow keras's method.  \n",
    "CS231n 수업에서 접할 수 있는 LeNet을 설계한 예입니다.  \n",
    "This is an example of the design of LeNet that can be see at class CS231n.  \n",
    "간단해 보이지만 가위, 바위, 보 분류기를 구현하는 데는 충분합니다.  \n",
    "It looks very simple but it can clssify rock, scissor and paper enough."
   ]
  },
  {
   "cell_type": "code",
   "execution_count": 140,
   "metadata": {},
   "outputs": [
    {
     "name": "stdout",
     "output_type": "stream",
     "text": [
      "Model: \"sequential_46\"\n",
      "_________________________________________________________________\n",
      "Layer (type)                 Output Shape              Param #   \n",
      "=================================================================\n",
      "conv2d_93 (Conv2D)           (None, 26, 26, 30)        840       \n",
      "_________________________________________________________________\n",
      "max_pooling2d_93 (MaxPooling (None, 13, 13, 30)        0         \n",
      "_________________________________________________________________\n",
      "conv2d_94 (Conv2D)           (None, 11, 11, 60)        16260     \n",
      "_________________________________________________________________\n",
      "max_pooling2d_94 (MaxPooling (None, 5, 5, 60)          0         \n",
      "_________________________________________________________________\n",
      "flatten_46 (Flatten)         (None, 1500)              0         \n",
      "_________________________________________________________________\n",
      "dense_92 (Dense)             (None, 60)                90060     \n",
      "_________________________________________________________________\n",
      "dense_93 (Dense)             (None, 3)                 183       \n",
      "=================================================================\n",
      "Total params: 107,343\n",
      "Trainable params: 107,343\n",
      "Non-trainable params: 0\n",
      "_________________________________________________________________\n"
     ]
    }
   ],
   "source": [
    "model=keras.models.Sequential()\n",
    "model.add(keras.layers.Conv2D(30, (3,3), activation='relu', input_shape=(28,28,3)))\n",
    "model.add(keras.layers.MaxPool2D(2,2))\n",
    "model.add(keras.layers.Conv2D(60, (3,3), activation='relu'))\n",
    "model.add(keras.layers.MaxPooling2D((2,2)))\n",
    "model.add(keras.layers.Flatten())\n",
    "model.add(keras.layers.Dense(60, activation='relu'))\n",
    "model.add(keras.layers.Dense(3, activation='softmax'))\n",
    "\n",
    "model.summary()"
   ]
  },
  {
   "cell_type": "markdown",
   "metadata": {},
   "source": [
    "### 3. 라벨링 Labeling\n",
    "사이즈를 줄인 사진에게 label을 붙여봅시다.  \n",
    "Let's label the photos that are reduced in size.  \n",
    "라벨은 간단하게 숫자를 이용하겠습니다.  \n",
    "We will simply use numbers for the label.  \n",
    "가위 : 0, 바위 : 1, 보 : 2  \n",
    "scissor : 0, rock : 1, paper : 2"
   ]
  },
  {
   "cell_type": "code",
   "execution_count": 141,
   "metadata": {},
   "outputs": [],
   "source": [
    "def load_data(img_path):\n",
    "\n",
    "    # 디렉토리에 들어있는 총 가위바위보 이미지 개수와 정확히 일치해야 합니다.\n",
    "    # The total number of Rock-Paper-Scissors images in the directory must match exactly.\n",
    "    number_of_data=4200    \n",
    "    img_size=28\n",
    "    color=3\n",
    "    \n",
    "    # 각 이미지 데이터와 라벨 데이터를 담을 행렬(matrix) 영역만 생성합니다.\n",
    "    # Create only a matrix area to hold each image data and label data.\n",
    "    imgs=np.zeros(number_of_data*img_size*img_size*color,dtype=np.int32).reshape(number_of_data,img_size,img_size,color)\n",
    "    labels=np.zeros(number_of_data,dtype=np.int32)\n",
    "\n",
    "    idx=0\n",
    "    for file in glob.iglob(img_path+'/scissor/*.jpg'):\n",
    "        img = np.array(Image.open(file),dtype=np.int32)\n",
    "        # 데이터 영역에 이미지 행렬을 복사\n",
    "        # Copy the image matrix to the data region.\n",
    "        imgs[idx,:,:,:]=img    \n",
    "        labels[idx]=0   # 가위 : 0\n",
    "        idx=idx+1\n",
    "\n",
    "    for file in glob.iglob(img_path+'/rock/*.jpg'):\n",
    "        img = np.array(Image.open(file),dtype=np.int32)\n",
    "        imgs[idx,:,:,:]=img    \n",
    "        labels[idx]=1   # 바위 : 1\n",
    "        idx=idx+1       \n",
    "    \n",
    "    for file in glob.iglob(img_path+'/paper/*.jpg'):\n",
    "        img = np.array(Image.open(file),dtype=np.int32)\n",
    "        imgs[idx,:,:,:]=img    \n",
    "        labels[idx]=2   # 보 : 2\n",
    "        idx=idx+1\n",
    "        \n",
    "    print(\"학습데이터(x_train)의 이미지 개수는\",idx,\"입니다.\")\n",
    "    return imgs, labels"
   ]
  },
  {
   "cell_type": "markdown",
   "metadata": {},
   "source": [
    "### 4.학습시키기 Training\n",
    "라벨링까지 완료한 데이터로 x_train 학습시키기  \n",
    "Traing x_train with labeled data  \n",
    "epochs : 전체 데이터를 학습한 정도, epoch 값이 너무 작다면 underfitting이 너무 크다면 overfitting이 발생할 확률이 높아집니다.  \n",
    "epochs : The degree to which you learned the whole data, if the epoch value is too small, underfitting, if too large, is more likely to occur.  \n",
    "batch_size : 한 번의 batch마다 주는 데이터 샘플의 size  \n",
    "batch_size : Size of data samples given per batch"
   ]
  },
  {
   "cell_type": "code",
   "execution_count": 142,
   "metadata": {},
   "outputs": [
    {
     "name": "stdout",
     "output_type": "stream",
     "text": [
      "학습데이터(x_train)의 이미지 개수는 4200 입니다.\n",
      "Epoch 1/15\n",
      "210/210 [==============================] - 1s 3ms/step - loss: 0.9965 - accuracy: 0.4764\n",
      "Epoch 2/15\n",
      "210/210 [==============================] - 1s 3ms/step - loss: 0.6685 - accuracy: 0.7090\n",
      "Epoch 3/15\n",
      "210/210 [==============================] - 1s 3ms/step - loss: 0.4315 - accuracy: 0.8240\n",
      "Epoch 4/15\n",
      "210/210 [==============================] - 1s 3ms/step - loss: 0.2750 - accuracy: 0.8936\n",
      "Epoch 5/15\n",
      "210/210 [==============================] - 1s 3ms/step - loss: 0.1759 - accuracy: 0.9438\n",
      "Epoch 6/15\n",
      "210/210 [==============================] - 1s 3ms/step - loss: 0.1185 - accuracy: 0.9645\n",
      "Epoch 7/15\n",
      "210/210 [==============================] - 1s 3ms/step - loss: 0.0667 - accuracy: 0.9843\n",
      "Epoch 8/15\n",
      "210/210 [==============================] - 1s 3ms/step - loss: 0.0778 - accuracy: 0.9764\n",
      "Epoch 9/15\n",
      "210/210 [==============================] - 1s 3ms/step - loss: 0.0387 - accuracy: 0.9914\n",
      "Epoch 10/15\n",
      "210/210 [==============================] - 1s 3ms/step - loss: 0.0216 - accuracy: 0.9974\n",
      "Epoch 11/15\n",
      "210/210 [==============================] - 1s 3ms/step - loss: 0.0090 - accuracy: 0.9998\n",
      "Epoch 12/15\n",
      "210/210 [==============================] - 1s 3ms/step - loss: 0.0084 - accuracy: 0.9990\n",
      "Epoch 13/15\n",
      "210/210 [==============================] - 1s 3ms/step - loss: 0.0052 - accuracy: 1.0000\n",
      "Epoch 14/15\n",
      "210/210 [==============================] - 1s 3ms/step - loss: 0.0036 - accuracy: 0.9998\n",
      "Epoch 15/15\n",
      "210/210 [==============================] - 1s 3ms/step - loss: 0.1125 - accuracy: 0.9671\n"
     ]
    },
    {
     "data": {
      "text/plain": [
       "<tensorflow.python.keras.callbacks.History at 0x7f3e1c1ba090>"
      ]
     },
     "execution_count": 142,
     "metadata": {},
     "output_type": "execute_result"
    }
   ],
   "source": [
    "image_dir_path = os.getenv(\"HOME\") + \"/aiffel/rock_scissor_paper\"\n",
    "(x_train, y_train)=load_data(image_dir_path) # load data\n",
    "x_train_norm = x_train/255.0   # Normalization \n",
    "\n",
    "model.compile(optimizer='adam',\n",
    "             loss='sparse_categorical_crossentropy',\n",
    "             metrics=['accuracy'])\n",
    "\n",
    "\n",
    "model.fit(x_train_norm, y_train, epochs=15, batch_size=20)"
   ]
  },
  {
   "cell_type": "markdown",
   "metadata": {},
   "source": [
    "### 5.테스트 데이터로 성능확인  Evaluation\n",
    "학습 단계처럼 data를 load할 matrix를 생성하고 evaluate으로 테스트 데이타를 확인한다.  \n",
    "Create a matrix to load the data as in the Training phase and verify the test data with evaluation."
   ]
  },
  {
   "cell_type": "code",
   "execution_count": 143,
   "metadata": {},
   "outputs": [
    {
     "name": "stdout",
     "output_type": "stream",
     "text": [
      "테스트 데이터(x_test)의 이미지 개수는 900 입니다.\n",
      "29/29 - 0s - loss: 2.7167 - accuracy: 0.6567\n",
      "test_loss: 2.7166683673858643 \n",
      "test_accuracy: 0.6566666960716248\n"
     ]
    }
   ],
   "source": [
    "def load_data(img_path):\n",
    "    number_of_data=900\n",
    "    img_size=28\n",
    "    color=3\n",
    "    \n",
    "    imgs=np.zeros(number_of_data*img_size*img_size*color,dtype=np.int32).reshape(number_of_data,img_size,img_size,color)\n",
    "    labels=np.zeros(number_of_data,dtype=np.int32)\n",
    "   \n",
    "    idx=0\n",
    "    for file in glob.iglob(img_path+'/scissor/*.jpg'):\n",
    "        img = np.array(Image.open(file),dtype=np.int32)\n",
    "        imgs[idx,:,:,:]=img    \n",
    "        labels[idx]=0   \n",
    "        idx=idx+1\n",
    "\n",
    "    for file in glob.iglob(img_path+'/rock/*.jpg'):\n",
    "        img = np.array(Image.open(file),dtype=np.int32)\n",
    "        imgs[idx,:,:,:]=img  \n",
    "        labels[idx]=1  \n",
    "        idx=idx+1       \n",
    "    \n",
    "    for file in glob.iglob(img_path+'/paper/*.jpg'):\n",
    "        img = np.array(Image.open(file),dtype=np.int32)\n",
    "        imgs[idx,:,:,:]=img    \n",
    "        labels[idx]=2   \n",
    "        idx=idx+1\n",
    "        \n",
    "    print(\"테스트 데이터(x_test)의 이미지 개수는\",idx,\"입니다.\")\n",
    "    return imgs, labels\n",
    "\n",
    "test_image_dir_path = os.getenv(\"HOME\") + \"/aiffel/rock_scissor_paper/test\"\n",
    "(x_test, y_test)=load_data(test_image_dir_path) \n",
    "x_test_norm = x_test/255.0   \n",
    "\n",
    "test_loss, test_accuracy = model.evaluate(x_test_norm, y_test, verbose=2)\n",
    "print(\"test_loss: {} \".format(test_loss))\n",
    "print(\"test_accuracy: {}\".format(test_accuracy))"
   ]
  },
  {
   "cell_type": "markdown",
   "metadata": {},
   "source": [
    "### 6-1.알맞게 추론한 데이터 톺아보기 See how well I inferred data"
   ]
  },
  {
   "cell_type": "code",
   "execution_count": 144,
   "metadata": {},
   "outputs": [
    {
     "name": "stdout",
     "output_type": "stream",
     "text": [
      "model.predict() 결과 :  [9.9933213e-01 2.6418080e-04 4.0360400e-04]\n",
      "model이 추론한 가장 가능성이 높은 결과 :  0\n",
      "실제 데이터의 라벨 :  0\n"
     ]
    },
    {
     "data": {
      "image/png": "[encoded data removed]",
      "text/plain": [
       "<Figure size 432x288 with 1 Axes>"
      ]
     },
     "metadata": {
      "needs_background": "light"
     },
     "output_type": "display_data"
    },
    {
     "name": "stdout",
     "output_type": "stream",
     "text": [
      "라벨: 0, 예측결과: 0\n"
     ]
    }
   ],
   "source": [
    "predicted_result = model.predict(x_test_norm)  # model이 추론한 확률값. \n",
    "predicted_labels = np.argmax(predicted_result, axis=1)\n",
    "\n",
    "idx=0  #1번째 x_test를 살펴보자. \n",
    "print('model.predict() 결과 : ', predicted_result[idx])\n",
    "print('model이 추론한 가장 가능성이 높은 결과 : ', predicted_labels[idx])\n",
    "print('실제 데이터의 라벨 : ', y_test[idx])\n",
    "\n",
    "import matplotlib.pyplot as plt\n",
    "\n",
    "plt.imshow(x_test[idx],cmap=plt.cm.binary)\n",
    "plt.show()\n",
    "print(\"라벨: \" + str(y_test[idx]) + \", 예측결과: \" + str(predicted_labels[idx]))\n"
   ]
  },
  {
   "cell_type": "markdown",
   "metadata": {},
   "source": [
    "### 6-2.잘못 추론한 데이터 톺아보기 See incorrectly inferred data"
   ]
  },
  {
   "cell_type": "code",
   "execution_count": 145,
   "metadata": {},
   "outputs": [
    {
     "name": "stdout",
     "output_type": "stream",
     "text": [
      "예측확률분포: [1.9611792e-01 8.1039725e-05 8.0380100e-01]\n",
      "예측결과: 2, 라벨: 0\n"
     ]
    },
    {
     "data": {
      "image/png": "[encoded data removed]",
      "text/plain": [
       "<Figure size 432x288 with 1 Axes>"
      ]
     },
     "metadata": {
      "needs_background": "light"
     },
     "output_type": "display_data"
    },
    {
     "name": "stdout",
     "output_type": "stream",
     "text": [
      "예측확률분포: [4.4452162e-15 4.3511132e-04 9.9956483e-01]\n",
      "예측결과: 2, 라벨: 1\n"
     ]
    },
    {
     "data": {
      "image/png": "[encoded data removed]",
      "text/plain": [
       "<Figure size 432x288 with 1 Axes>"
      ]
     },
     "metadata": {
      "needs_background": "light"
     },
     "output_type": "display_data"
    }
   ],
   "source": [
    "import random\n",
    "wrong_predict_list=[]\n",
    "for i, _ in enumerate(predicted_labels):\n",
    "    # i번째 test_labels과 y_test이 다른 경우만 모아 봅시다. \n",
    "    if predicted_labels[i] != y_test[i]:\n",
    "        wrong_predict_list.append(i)\n",
    "\n",
    "# wrong_predict_list 에서 랜덤하게 5개만 뽑아봅시다.\n",
    "samples = random.choices(population=wrong_predict_list, k=2)\n",
    "\n",
    "for n in samples:\n",
    "    print(\"예측확률분포: \" + str(predicted_result[n]))\n",
    "    print(\"예측결과: \" + str(predicted_labels[n]) + \", 라벨: \" + str(y_test[n]))\n",
    "    plt.imshow(x_test[n], cmap=plt.cm.binary)\n",
    "    plt.show()"
   ]
  },
  {
   "cell_type": "markdown",
   "metadata": {},
   "source": [
    "### 7.더 좋은 성능을 위해 hyperparameter 변경 Change hyperparameter\n",
    "#### 7-1.overfitting 되었는지 확인해보기 위해  To make sure it's overfitting,\n",
    "Conv2D layer에서 입력 이미지 특징 개수를 줄이고  \n",
    "Reduce the number of input image features in the Conv2D layer,  \n",
    "Dense layer에서 뉴런 개수를 줄이고  \n",
    "reduce the number of neurons in the Dense layer,  \n",
    "epoch를 줄여서 전체 데이터 훈련 횟수를 줄이고  \n",
    "reduce the number of total data training in epoch,  \n",
    "batch_size를 줄여 batch마다 데이터 샘플의 size을 줄였습니다.  \n",
    "and reduce the number of data sample's size per batch."
   ]
  },
  {
   "cell_type": "code",
   "execution_count": 148,
   "metadata": {},
   "outputs": [
    {
     "name": "stdout",
     "output_type": "stream",
     "text": [
      "Model: \"sequential_48\"\n",
      "_________________________________________________________________\n",
      "Layer (type)                 Output Shape              Param #   \n",
      "=================================================================\n",
      "conv2d_95 (Conv2D)           (None, 26, 26, 15)        420       \n",
      "_________________________________________________________________\n",
      "max_pooling2d_95 (MaxPooling (None, 13, 13, 15)        0         \n",
      "_________________________________________________________________\n",
      "conv2d_96 (Conv2D)           (None, 11, 11, 30)        4080      \n",
      "_________________________________________________________________\n",
      "max_pooling2d_96 (MaxPooling (None, 5, 5, 30)          0         \n",
      "_________________________________________________________________\n",
      "flatten_47 (Flatten)         (None, 750)               0         \n",
      "_________________________________________________________________\n",
      "dense_94 (Dense)             (None, 30)                22530     \n",
      "_________________________________________________________________\n",
      "dense_95 (Dense)             (None, 3)                 93        \n",
      "=================================================================\n",
      "Total params: 27,123\n",
      "Trainable params: 27,123\n",
      "Non-trainable params: 0\n",
      "_________________________________________________________________\n",
      "Epoch 1/7\n",
      "4200/4200 [==============================] - 3s 746us/step - loss: 1.4185 - accuracy: 0.4707\n",
      "Epoch 2/7\n",
      "4200/4200 [==============================] - 3s 741us/step - loss: 0.8805 - accuracy: 0.5821\n",
      "Epoch 3/7\n",
      "4200/4200 [==============================] - 3s 738us/step - loss: 0.7176 - accuracy: 0.6762\n",
      "Epoch 4/7\n",
      "4200/4200 [==============================] - 3s 737us/step - loss: 0.5843 - accuracy: 0.7481\n",
      "Epoch 5/7\n",
      "4200/4200 [==============================] - 3s 734us/step - loss: 0.5101 - accuracy: 0.7933\n",
      "Epoch 6/7\n",
      "4200/4200 [==============================] - 3s 737us/step - loss: 0.4183 - accuracy: 0.8440\n",
      "Epoch 7/7\n",
      "4200/4200 [==============================] - 3s 738us/step - loss: 0.3563 - accuracy: 0.8610\n",
      "학습데이터(x_test)의 이미지 개수는 900 입니다.\n",
      "29/29 - 0s - loss: 2.9913 - accuracy: 0.5011\n",
      "test_loss: 2.9913086891174316 \n",
      "test_accuracy: 0.5011110901832581\n"
     ]
    }
   ],
   "source": [
    "# 바꿔 볼 수 있는 하이퍼파라미터들\n",
    "# changable hyperparameter\n",
    "# original n_channel_1=30\n",
    "# original n_channel_2=60\n",
    "# original n_dense=60\n",
    "# original n_train_epoch=15\n",
    "# original batch_size=20\n",
    "\n",
    "n_channel_1=15\n",
    "n_channel_2=30\n",
    "n_dense=30\n",
    "n_train_epoch=7\n",
    "n_batch_size=1\n",
    "\n",
    "model=keras.models.Sequential()\n",
    "model.add(keras.layers.Conv2D(n_channel_1, (3,3), activation='relu', input_shape=(28,28,3)))\n",
    "model.add(keras.layers.MaxPool2D(2,2))\n",
    "model.add(keras.layers.Conv2D(n_channel_2, (3,3), activation='relu'))\n",
    "model.add(keras.layers.MaxPooling2D((2,2)))\n",
    "model.add(keras.layers.Flatten())\n",
    "model.add(keras.layers.Dense(n_dense, activation='relu'))\n",
    "model.add(keras.layers.Dense(3, activation='softmax'))\n",
    "\n",
    "model.summary()\n",
    "model.compile(optimizer='adam',\n",
    "             loss='sparse_categorical_crossentropy',\n",
    "             metrics=['accuracy'])\n",
    "model.fit(x_train, y_train, epochs=n_train_epoch, batch_size=n_batch_size)\n",
    "\n",
    "def load_data_for_test(img_path):\n",
    "   \n",
    "    number_of_data=900   \n",
    "    img_size=28\n",
    "    color=3\n",
    "\n",
    "    imgs=np.zeros(number_of_data*img_size*img_size*color,dtype=np.int32).reshape(number_of_data,img_size,img_size,color)\n",
    "    labels=np.zeros(number_of_data,dtype=np.int32)\n",
    "\n",
    "    idx=0\n",
    "    for file in glob.iglob(img_path+'/scissor/*.jpg'):\n",
    "        img = np.array(Image.open(file),dtype=np.int32)\n",
    "        imgs[idx,:,:,:]=img   \n",
    "        labels[idx]=0   \n",
    "        idx=idx+1\n",
    "\n",
    "    for file in glob.iglob(img_path+'/rock/*.jpg'):\n",
    "        img = np.array(Image.open(file),dtype=np.int32)\n",
    "        imgs[idx,:,:,:]=img   \n",
    "        labels[idx]=1  \n",
    "        idx=idx+1       \n",
    "\n",
    "    for file in glob.iglob(img_path+'/paper/*.jpg'):\n",
    "        img = np.array(Image.open(file),dtype=np.int32)\n",
    "        imgs[idx,:,:,:]=img   \n",
    "        labels[idx]=2   \n",
    "        idx=idx+1\n",
    "\n",
    "    print(\"학습데이터(x_test)의 이미지 개수는\",idx,\"입니다.\")\n",
    "    return imgs, labels\n",
    "\n",
    "test_image_dir_path = os.getenv(\"HOME\") + \"/aiffel/rock_scissor_paper/test\"\n",
    "(x_test, y_test)=load_data_for_test(test_image_dir_path)\n",
    "x_test_norm = x_test/255.0 \n",
    "\n",
    "test_loss, test_accuracy = model.evaluate(x_test,y_test, verbose=2)\n",
    "print(\"test_loss: {} \".format(test_loss))\n",
    "print(\"test_accuracy: {}\".format(test_accuracy))"
   ]
  },
  {
   "cell_type": "markdown",
   "metadata": {},
   "source": [
    "#### 7-1.underfitting 되었는지 확인해보기 위해  To make sure it's underfitting,\n",
    "위와 반대로 모두 늘여서 test했습니다.  \n",
    "I tested it by stretching it out as opposed to the above."
   ]
  },
  {
   "cell_type": "code",
   "execution_count": 149,
   "metadata": {},
   "outputs": [
    {
     "name": "stdout",
     "output_type": "stream",
     "text": [
      "Model: \"sequential_49\"\n",
      "_________________________________________________________________\n",
      "Layer (type)                 Output Shape              Param #   \n",
      "=================================================================\n",
      "conv2d_97 (Conv2D)           (None, 26, 26, 60)        1680      \n",
      "_________________________________________________________________\n",
      "max_pooling2d_97 (MaxPooling (None, 13, 13, 60)        0         \n",
      "_________________________________________________________________\n",
      "conv2d_98 (Conv2D)           (None, 11, 11, 120)       64920     \n",
      "_________________________________________________________________\n",
      "max_pooling2d_98 (MaxPooling (None, 5, 5, 120)         0         \n",
      "_________________________________________________________________\n",
      "flatten_48 (Flatten)         (None, 3000)              0         \n",
      "_________________________________________________________________\n",
      "dense_96 (Dense)             (None, 120)               360120    \n",
      "_________________________________________________________________\n",
      "dense_97 (Dense)             (None, 3)                 363       \n",
      "=================================================================\n",
      "Total params: 427,083\n",
      "Trainable params: 427,083\n",
      "Non-trainable params: 0\n",
      "_________________________________________________________________\n",
      "Epoch 1/20\n",
      "105/105 [==============================] - 1s 11ms/step - loss: 4.1137 - accuracy: 0.4729\n",
      "Epoch 2/20\n",
      "105/105 [==============================] - 1s 11ms/step - loss: 0.5945 - accuracy: 0.7367\n",
      "Epoch 3/20\n",
      "105/105 [==============================] - 1s 11ms/step - loss: 0.3818 - accuracy: 0.8367\n",
      "Epoch 4/20\n",
      "105/105 [==============================] - 1s 11ms/step - loss: 0.2478 - accuracy: 0.9029\n",
      "Epoch 5/20\n",
      "105/105 [==============================] - 1s 11ms/step - loss: 0.2114 - accuracy: 0.9202\n",
      "Epoch 6/20\n",
      "105/105 [==============================] - 1s 11ms/step - loss: 0.1178 - accuracy: 0.9595\n",
      "Epoch 7/20\n",
      "105/105 [==============================] - 1s 11ms/step - loss: 0.0692 - accuracy: 0.9748\n",
      "Epoch 8/20\n",
      "105/105 [==============================] - 1s 11ms/step - loss: 0.0800 - accuracy: 0.9733\n",
      "Epoch 9/20\n",
      "105/105 [==============================] - 1s 12ms/step - loss: 0.0671 - accuracy: 0.9769\n",
      "Epoch 10/20\n",
      "105/105 [==============================] - 1s 11ms/step - loss: 0.1031 - accuracy: 0.9683\n",
      "Epoch 11/20\n",
      "105/105 [==============================] - 1s 11ms/step - loss: 0.0530 - accuracy: 0.9848\n",
      "Epoch 12/20\n",
      "105/105 [==============================] - 1s 11ms/step - loss: 0.0158 - accuracy: 0.9955\n",
      "Epoch 13/20\n",
      "105/105 [==============================] - 1s 11ms/step - loss: 0.0045 - accuracy: 0.9995\n",
      "Epoch 14/20\n",
      "105/105 [==============================] - 1s 11ms/step - loss: 0.0153 - accuracy: 0.9950\n",
      "Epoch 15/20\n",
      "105/105 [==============================] - 1s 11ms/step - loss: 0.0165 - accuracy: 0.9962\n",
      "Epoch 16/20\n",
      "105/105 [==============================] - 1s 11ms/step - loss: 0.1613 - accuracy: 0.9531\n",
      "Epoch 17/20\n",
      "105/105 [==============================] - 1s 11ms/step - loss: 0.0805 - accuracy: 0.9743\n",
      "Epoch 18/20\n",
      "105/105 [==============================] - 1s 11ms/step - loss: 0.0220 - accuracy: 0.9940\n",
      "Epoch 19/20\n",
      "105/105 [==============================] - 1s 11ms/step - loss: 0.0027 - accuracy: 0.9993\n",
      "Epoch 20/20\n",
      "105/105 [==============================] - 1s 11ms/step - loss: 0.0040 - accuracy: 0.9990\n",
      "학습데이터(x_test)의 이미지 개수는 900 입니다.\n",
      "29/29 - 0s - loss: 4.6658 - accuracy: 0.5122\n",
      "test_loss: 4.665750980377197 \n",
      "test_accuracy: 0.5122222304344177\n"
     ]
    }
   ],
   "source": [
    "#바꿔 볼 수 있는 하이퍼파라미터들\n",
    "# changable hyperparameter\n",
    "# original n_channel_1=30\n",
    "# original n_channel_2=60\n",
    "# original n_dense=60\n",
    "# original n_train_epoch=15\n",
    "# original batch_size=20\n",
    "\n",
    "n_channel_1=60\n",
    "n_channel_2=120\n",
    "n_dense=120\n",
    "n_train_epoch=20\n",
    "n_batch_size=40\n",
    "\n",
    "model=keras.models.Sequential()\n",
    "model.add(keras.layers.Conv2D(n_channel_1, (3,3), activation='relu', input_shape=(28,28,3)))\n",
    "model.add(keras.layers.MaxPool2D(2,2))\n",
    "\n",
    "model.add(keras.layers.Conv2D(n_channel_2, (3,3), activation='relu'))\n",
    "model.add(keras.layers.MaxPooling2D((2,2)))\n",
    "\n",
    "\n",
    "model.add(keras.layers.Flatten())\n",
    "model.add(keras.layers.Dense(n_dense, activation='relu'))\n",
    "model.add(keras.layers.Dense(3, activation='softmax'))\n",
    "\n",
    "model.summary()\n",
    "model.compile(optimizer='adam',\n",
    "             loss='sparse_categorical_crossentropy',\n",
    "             metrics=['accuracy'])\n",
    "model.fit(x_train, y_train, epochs=n_train_epoch, batch_size=n_batch_size)\n",
    "\n",
    "def load_data_for_test(img_path):\n",
    "   \n",
    "    number_of_data=900   \n",
    "    img_size=28\n",
    "    color=3\n",
    "  \n",
    "    imgs=np.zeros(number_of_data*img_size*img_size*color,dtype=np.int32).reshape(number_of_data,img_size,img_size,color)\n",
    "    labels=np.zeros(number_of_data,dtype=np.int32)\n",
    "\n",
    "    idx=0\n",
    "    for file in glob.iglob(img_path+'/scissor/*.jpg'):\n",
    "        img = np.array(Image.open(file),dtype=np.int32)\n",
    "        imgs[idx,:,:,:]=img    \n",
    "        labels[idx]=0 \n",
    "        idx=idx+1\n",
    "\n",
    "    for file in glob.iglob(img_path+'/rock/*.jpg'):\n",
    "        img = np.array(Image.open(file),dtype=np.int32)\n",
    "        imgs[idx,:,:,:]=img   \n",
    "        labels[idx]=1   \n",
    "        idx=idx+1       \n",
    "\n",
    "    for file in glob.iglob(img_path+'/paper/*.jpg'):\n",
    "        img = np.array(Image.open(file),dtype=np.int32)\n",
    "        imgs[idx,:,:,:]=img    \n",
    "        labels[idx]=2  \n",
    "        idx=idx+1\n",
    "\n",
    "    print(\"학습데이터(x_test)의 이미지 개수는\",idx,\"입니다.\")\n",
    "    return imgs, labels\n",
    "\n",
    "test_image_dir_path = os.getenv(\"HOME\") + \"/aiffel/rock_scissor_paper/test\"\n",
    "(x_test, y_test)=load_data_for_test(test_image_dir_path)\n",
    "x_test_norm = x_test/255.0   \n",
    "\n",
    "test_loss, test_accuracy = model.evaluate(x_test,y_test, verbose=2)\n",
    "print(\"test_loss: {} \".format(test_loss))\n",
    "print(\"test_accuracy: {}\".format(test_accuracy))"
   ]
  },
  {
   "cell_type": "markdown",
   "metadata": {},
   "source": [
    "### 8.고찰 Consideration\n",
    "최대한 많은 data를 모은 덕분에 첫 test에 비교적 안정적인 결과 나왔다고 생각한다.  \n",
    "I think the results were relatively stable in the first test because I collected as much data as possible.  \n",
    "이후 overfitting과 underfitting을 확인해 보았지만 첫 테스트의 정확도가 더 높았다.  \n",
    "Then I checked overfitting and underfitting, but the first test was more accurate.  \n",
    "왜 첫 test의 정확도가 제일 높았는지 생각해보자.  \n",
    "Let's think about why the accuracy of the first test was the highest.\n",
    "- 작은 픽셀 이미지에 맞는 Conv2D와 Dense를 MNIST를 참고해서 적절하게 구했다. \n",
    "- Conv2D and Dense for small pixel images were appropriately obtained by referring to MNIST.\n",
    "- train data와 test data의 비율을 Exploration 2를 참고해 8:2의 비율로 진행했다.  \n",
    "- The ratio of train data and test data was carried out at a ratio of 8:2 with reference to Exploration 2.  \n",
    "이렇게 2가지를 꼽을 수 있겠다.  \n",
    "I can pick these two.  \n",
    "  \n",
    "다음 학습에는 본래 코드를 더 이해하면서 응용할 수 있도록 노력해야겠다.  \n",
    "In the next learning, I should try to apply the original code with a better understanding."
   ]
  }
 ],
 "metadata": {
  "kernelspec": {
   "display_name": "aiffel",
   "language": "python",
   "name": "aiffel"
  },
  "language_info": {
   "codemirror_mode": {
    "name": "ipython",
    "version": 3
   },
   "file_extension": ".py",
   "mimetype": "text/x-python",
   "name": "python",
   "nbconvert_exporter": "python",
   "pygments_lexer": "ipython3",
   "version": "3.7.9"
  }
 },
 "nbformat": 4,
 "nbformat_minor": 4
}
